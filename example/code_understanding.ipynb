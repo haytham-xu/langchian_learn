{
 "cells": [
  {
   "cell_type": "code",
   "execution_count": 2,
   "metadata": {},
   "outputs": [
    {
     "data": {
      "text/plain": [
       "True"
      ]
     },
     "execution_count": 2,
     "metadata": {},
     "output_type": "execute_result"
    }
   ],
   "source": [
    "from dotenv import load_dotenv\n",
    "load_dotenv()"
   ]
  },
  {
   "cell_type": "markdown",
   "metadata": {},
   "source": [
    "## Loading"
   ]
  },
  {
   "cell_type": "code",
   "execution_count": 3,
   "metadata": {},
   "outputs": [
    {
     "data": {
      "text/plain": [
       "6"
      ]
     },
     "execution_count": 3,
     "metadata": {},
     "output_type": "execute_result"
    }
   ],
   "source": [
    "# from git import Repo\n",
    "from langchain.text_splitter import Language\n",
    "from langchain_community.document_loaders.generic import GenericLoader\n",
    "from langchain_community.document_loaders.parsers import LanguageParser\n",
    "\n",
    "# Clone\n",
    "# repo_path = \"C:\\\\Users\\\\admin\\\\bin\\code\\\\book-management-system\"\n",
    "repo_path = \"/Users/i353667/Documents/code/github.com/book-management-system\"\n",
    "# repo = Repo.clone_from(\"https://github.com/langchain-ai/langchain\", to_path=repo_path)\n",
    "\n",
    "# Load\n",
    "loader = GenericLoader.from_filesystem(\n",
    "    repo_path,\n",
    "    glob=\"**/*\",\n",
    "    suffixes=[\".java\"],\n",
    "    exclude=[\"**/target/**\"],\n",
    "    parser=LanguageParser(language=Language.JAVA, parser_threshold=500),\n",
    ")\n",
    "documents = loader.load()\n",
    "len(documents)"
   ]
  },
  {
   "cell_type": "markdown",
   "metadata": {},
   "source": [
    "## Splitting"
   ]
  },
  {
   "cell_type": "code",
   "execution_count": 4,
   "metadata": {},
   "outputs": [
    {
     "data": {
      "text/plain": [
       "6"
      ]
     },
     "execution_count": 4,
     "metadata": {},
     "output_type": "execute_result"
    }
   ],
   "source": [
    "from langchain.text_splitter import RecursiveCharacterTextSplitter\n",
    "\n",
    "python_splitter = RecursiveCharacterTextSplitter.from_language(\n",
    "    language=Language.JAVA, chunk_size=2000, chunk_overlap=200\n",
    ")\n",
    "texts = python_splitter.split_documents(documents)\n",
    "len(texts)"
   ]
  },
  {
   "cell_type": "markdown",
   "metadata": {},
   "source": [
    "## RetrievalQA"
   ]
  },
  {
   "cell_type": "code",
   "execution_count": 5,
   "metadata": {},
   "outputs": [],
   "source": [
    "from langchain_community.vectorstores import Chroma\n",
    "from langchain_openai import OpenAIEmbeddings\n",
    "\n",
    "db = Chroma.from_documents(texts, OpenAIEmbeddings(disallowed_special=()))\n",
    "retriever = db.as_retriever(\n",
    "    search_type=\"mmr\",  # Also test \"similarity\"\n",
    "    search_kwargs={\"k\": 8},\n",
    ")"
   ]
  },
  {
   "cell_type": "markdown",
   "metadata": {},
   "source": [
    "## Chat"
   ]
  },
  {
   "cell_type": "code",
   "execution_count": 6,
   "metadata": {},
   "outputs": [
    {
     "name": "stderr",
     "output_type": "stream",
     "text": [
      "/usr/local/lib/python3.10/site-packages/langchain_core/_api/deprecation.py:189: LangChainDeprecationWarning: The function `run` was deprecated in LangChain 0.1.0 and will be removed in 0.2.0. Use invoke instead.\n",
      "  warn_deprecated(\n",
      "/usr/local/lib/python3.10/site-packages/langchain_core/_api/deprecation.py:189: LangChainDeprecationWarning: The function `__call__` was deprecated in LangChain 0.1.0 and will be removed in 0.2.0. Use invoke instead.\n",
      "  warn_deprecated(\n",
      "Number of requested results 20 is greater than number of elements in index 6, updating n_results = 6\n",
      "/usr/local/lib/python3.10/site-packages/langchain_core/_api/deprecation.py:189: LangChainDeprecationWarning: The function `run` was deprecated in LangChain 0.1.0 and will be removed in 0.2.0. Use invoke instead.\n",
      "  warn_deprecated(\n",
      "/usr/local/lib/python3.10/site-packages/langchain_core/_api/deprecation.py:189: LangChainDeprecationWarning: The function `__call__` was deprecated in LangChain 0.1.0 and will be removed in 0.2.0. Use invoke instead.\n",
      "  warn_deprecated(\n",
      "/usr/local/lib/python3.10/site-packages/langchain_core/_api/deprecation.py:189: LangChainDeprecationWarning: The function `__call__` was deprecated in LangChain 0.1.0 and will be removed in 0.2.0. Use invoke instead.\n",
      "  warn_deprecated(\n",
      "/usr/local/lib/python3.10/site-packages/langchain_core/_api/deprecation.py:189: LangChainDeprecationWarning: The function `__call__` was deprecated in LangChain 0.1.0 and will be removed in 0.2.0. Use invoke instead.\n",
      "  warn_deprecated(\n"
     ]
    },
    {
     "data": {
      "text/plain": [
       "'In BookController.java, there is a REST controller class named \"BookController\" that handles HTTP requests related to books. It has two methods:\\n\\n1. `addBook`: This method is used to add a new book to the repository. It takes a BookDTO object as a request body and checks if the book already exists in the repository based on its ISBN. If the book does not exist, a new Book object is created and added to the repository. If the book already exists, the quantity in stock of the existing book is increased by 1. The method returns a ResponseEntity with a success message.\\n\\n2. `searchBooks`: This method is used to search for a book in the repository based on its ISBN. It takes the ISBN as a path variable and retrieves the book from the repository. If the book is not found, it returns a ResponseEntity with a NOT_FOUND status. If the book is found, it returns a ResponseEntity with the book object.\\n\\nThere is also another method named `getAllBooks` that is used to retrieve all books from the repository. It returns a ResponseEntity with a list of all books.'"
      ]
     },
     "execution_count": 6,
     "metadata": {},
     "output_type": "execute_result"
    }
   ],
   "source": [
    "from langchain.chains import ConversationalRetrievalChain\n",
    "from langchain.memory import ConversationSummaryMemory\n",
    "from langchain_openai import ChatOpenAI\n",
    "\n",
    "llm = ChatOpenAI(model_name=\"gpt-3.5-turbo\")\n",
    "memory = ConversationSummaryMemory(\n",
    "    llm=llm, memory_key=\"chat_history\", return_messages=True\n",
    ")\n",
    "qa = ConversationalRetrievalChain.from_llm(llm, retriever=retriever, memory=memory)\n",
    "\n",
    "question = \"Explains BookController.java\"\n",
    "result = qa.invoke(question)\n",
    "result[\"answer\"]"
   ]
  },
  {
   "cell_type": "markdown",
   "metadata": {},
   "source": [
    "'BookController.java is a Spring MVC controller class that handles incoming HTTP requests related to books. It contains two main methods:\n",
    "1. addBook(): This method is mapped to the POST request /book. It takes a BookDTO object as a request body and adds a book to the repository. It first checks if a book with the same ISBN already exists in the repository. If it does not exist, a new Book object is created and populated with the information from the BookDTO object. The quantityInStock property is set to 1. The new book is then added to the repository using the BookService class. If a book with the same ISBN already exists, the quantityInStock property of the existing book is increased by 1 and the updated book is added to the repository.\n",
    "2. searchBooks(): This method is mapped to the GET request /search/{isbn}, where {isbn} is a path variable representing the ISBN of the book to search for. It retrieves a book from the repository based on its ISBN. If the book is found, it is returned in the response body with a status code of 200 (OK). If the book is not found, a 404 (NOT_FOUND) status code is returned.\n",
    "3. getAllBooks(): This method is mapped to the GET request /search. It retrieves all books from the repository and returns them in the response body with a status code of 200 (OK).\n",
    "The BookController class is annotated with @RestController, indicating that it is a controller class that handles RESTful requests and automatically serializes the response to JSON. It is also annotated with @RequestMapping, specifying the base URL mapping for all the methods in the class. The BookService class is injected into the controller using the @Autowired annotation, allowing the controller to use its methods to interact with the repository.'"
   ]
  },
  {
   "cell_type": "code",
   "execution_count": 1,
   "metadata": {},
   "outputs": [
    {
     "ename": "NameError",
     "evalue": "name 'qa' is not defined",
     "output_type": "error",
     "traceback": [
      "\u001b[0;31m---------------------------------------------------------------------------\u001b[0m",
      "\u001b[0;31mNameError\u001b[0m                                 Traceback (most recent call last)",
      "Cell \u001b[0;32mIn[1], line 2\u001b[0m\n\u001b[1;32m      1\u001b[0m question \u001b[38;5;241m=\u001b[39m \u001b[38;5;124m\"\u001b[39m\u001b[38;5;124mgive me integration test Java code for BookController, only code, don\u001b[39m\u001b[38;5;124m'\u001b[39m\u001b[38;5;124mt append other message.\u001b[39m\u001b[38;5;124m\"\u001b[39m\n\u001b[0;32m----> 2\u001b[0m result \u001b[38;5;241m=\u001b[39m \u001b[43mqa\u001b[49m\u001b[38;5;241m.\u001b[39minvoke(question)\n\u001b[1;32m      3\u001b[0m result[\u001b[38;5;124m\"\u001b[39m\u001b[38;5;124manswer\u001b[39m\u001b[38;5;124m\"\u001b[39m]\n",
      "\u001b[0;31mNameError\u001b[0m: name 'qa' is not defined"
     ]
    }
   ],
   "source": [
    "question = \"give me integration test Java code for BookController, only code, don't append other message.\"\n",
    "result = qa.invoke(question)\n",
    "result[\"answer\"]"
   ]
  },
  {
   "cell_type": "markdown",
   "metadata": {},
   "source": [
    "'The integration test Java code for BookController would typically involve using a testing framework like JUnit and mocking dependencies using tools like Mockito. Here\\'s an example of how the integration test code for BookController might look like:\n",
    "```java\n",
    "@RunWith(SpringRunner.class)\n",
    "@SpringBootTest(webEnvironment = SpringBootTest.WebEnvironment.RANDOM_PORT)\n",
    "@AutoConfigureMockMvc\n",
    "public class BookControllerIntegrationTest {\n",
    "    @Autowired\n",
    "    private MockMvc mockMvc;\n",
    "    @MockBean\n",
    "    private BookService bookService;\n",
    "    @Autowired\n",
    "    private ObjectMapper objectMapper;\n",
    "    @Test\n",
    "    public void testAddBook() throws Exception {\n",
    "        // Create a BookDTO object with test data\n",
    "        BookDTO bookDTO = new BookDTO();\n",
    "        bookDTO.setTitle(\"Test Book\");\n",
    "        bookDTO.setAuthor(\"Test Author\");\n",
    "        bookDTO.setIsbn(\"1234567890\");\n",
    "        bookDTO.setPublisher(\"Test Publisher\");\n",
    "        // Convert the BookDTO object to JSON\n",
    "        String json = objectMapper.writeValueAsString(bookDTO);\n",
    "        // Mock the behavior of the bookService\n",
    "        when(bookService.getBookByIsbn(anyString())).thenReturn(null);\n",
    "        // Perform the POST request to add a book\n",
    "        mockMvc.perform(post(\"/book\")\n",
    "                .contentType(MediaType.APPLICATION_JSON)\n",
    "                .content(json))\n",
    "                .andExpect(status().isOk())\n",
    "                .andExpect(content().string(\"New Book added.\"));\n",
    "        // Verify that the bookService method was called\n",
    "        verify(bookService, times(1)).addBook(any(Book.class));\n",
    "    }\n",
    "    @Test\n",
    "    public void testSearchBooks() throws Exception {\n",
    "        // Create a Book object with test data\n",
    "        Book book = new Book();\n",
    "        book.setTitle(\"Test Book\");\n",
    "        book.setAuthor(\"Test Author\");\n",
    "        book.setIsbn(\"1234567890\");\n",
    "        book.setPublisher(\"Test Publisher\");\n",
    "        // Mock the behavior of the bookService\n",
    "        when(bookService.getBookByIsbn(\"1234567890\")).thenReturn(book);\n",
    "        // Perform the GET request to search for a book\n",
    "        mockMvc.perform(get(\"/search/1234567890\"))\n",
    "                .andExpect(status().isOk())\n",
    "                .andExpect(jsonPath(\"$.title\", is(\"Test Book\")))\n",
    "                .andExpect(jsonPath(\"$.author\", is(\"Test Author\")))\n",
    "                .andExpect(jsonPath(\"$.isbn\", is(\"1234567890\")))\n",
    "                .andExpect(jsonPath(\"$.publisher\", is(\"Test Publisher\")));\n",
    "    }\n",
    "    @Test\n",
    "    public void testGetAllBooks() throws Exception {\n",
    "        // Create a list of Book objects with test data\n",
    "        List<Book> books = new ArrayList<>();\n",
    "        Book book1 = new Book();\n",
    "        book1.setTitle(\"Test Book 1\");\n",
    "        book1.setAuthor(\"Test Author 1\");\n",
    "        book1.setIsbn(\"1234567890\");\n",
    "        book1.setPublisher(\"Test Publisher 1\");\n",
    "        books.add(book1);\n",
    "        Book book2 = new Book();\n",
    "        book2.setTitle(\"Test Book 2\");\n",
    "        book2.setAuthor(\"Test Author 2\");\n",
    "        book2.setIsbn(\"0987654321\");\n",
    "        book2.setPublisher(\"Test Publisher 2\");\n",
    "        books.add(book2);\n",
    "        // Mock the behavior of the bookService\n",
    "        when(bookService.getAllBooks()).thenReturn(books);\n",
    "        // Perform the GET request to get all books\n",
    "        mockMvc.perform(get(\"/search\"))\n",
    "                .andExpect(status().isOk())\n",
    "                .andExpect(jsonPath(\"$[0].title\", is(\"Test Book 1\")))\n",
    "                .andExpect(jsonPath(\"$[0].author\", is(\"Test Author 1\")))\n",
    "                .andExpect(jsonPath(\"$[0].isbn\", is(\"1234567890\")))\n",
    "                .andExpect(jsonPath(\"$[0].publisher\", is(\"Test Publisher 1\")))\n",
    "                .andExpect(jsonPath(\"$[1].title\", is(\"Test Book 2\")))\n",
    "                .andExpect(jsonPath(\"$[1].author\", is(\"Test Author 2\")))\n",
    "                .andExpect(jsonPath(\"$[1].isbn\", is(\"0987654321\")))\n",
    "                .andExpect(jsonPath(\"$[1].publisher\", is(\"Test Publisher 2\")));\n",
    "    }\n",
    "}\n",
    "```\n",
    "Note that this is just an example and you may need to modify it based on your specific requirements and dependencies.'"
   ]
  }
 ],
 "metadata": {
  "kernelspec": {
   "display_name": "Python 3",
   "language": "python",
   "name": "python3"
  },
  "language_info": {
   "codemirror_mode": {
    "name": "ipython",
    "version": 3
   },
   "file_extension": ".py",
   "mimetype": "text/x-python",
   "name": "python",
   "nbconvert_exporter": "python",
   "pygments_lexer": "ipython3",
   "version": "3.10.12"
  }
 },
 "nbformat": 4,
 "nbformat_minor": 2
}
